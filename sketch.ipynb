{
  "nbformat": 4,
  "nbformat_minor": 0,
  "metadata": {
    "colab": {
      "name": "Create a Pencil Sketch Portrait with Python OpenCV",
      "provenance": []
    },
    "kernelspec": {
      "name": "python3",
      "display_name": "Python 3.7.9 64-bit ('tf': conda)",
      "metadata": {
        "interpreter": {
          "hash": "d5a5503ee387615641d7a4a93854ed490d580d7c63f5b4674f909ab8da538278"
        }
      }
    }
  },
  "cells": [
    {
      "cell_type": "code",
      "metadata": {
        "id": "61uS0rwiW7l_",
        "colab_type": "code",
        "colab": {}
      },
      "source": [
        "import cv2"
      ],
      "execution_count": 1,
      "outputs": []
    },
    {
      "cell_type": "code",
      "metadata": {
        "id": "d61I51shXPEG",
        "colab_type": "code",
        "colab": {}
      },
      "source": [
        "img = cv2.imread(\"image.jpeg\")"
      ],
      "execution_count": 3,
      "outputs": []
    },
    {
      "cell_type": "code",
      "metadata": {
        "id": "xaXJUapjY9zo",
        "colab_type": "code",
        "colab": {
          "base_uri": "https://localhost:8080/",
          "height": 277
        },
        "outputId": "09085c87-8bd8-45f0-9dce-e8815e471973"
      },
      "source": [
        "cv2.imshow('',img)\n",
        "cv2.waitKey(0)"
      ],
      "execution_count": 4,
      "outputs": [
        {
          "output_type": "execute_result",
          "data": {
            "text/plain": [
              "-1"
            ]
          },
          "metadata": {},
          "execution_count": 4
        }
      ]
    },
    {
      "cell_type": "code",
      "metadata": {
        "id": "sCsEKnCoZG63",
        "colab_type": "code",
        "colab": {}
      },
      "source": [
        "img_gray = cv2.cvtColor(img, cv2.COLOR_BGR2GRAY)\n"
      ],
      "execution_count": 4,
      "outputs": []
    },
    {
      "cell_type": "code",
      "metadata": {
        "id": "QGraatoLZXXV",
        "colab_type": "code",
        "colab": {
          "base_uri": "https://localhost:8080/",
          "height": 277
        },
        "outputId": "508cc594-9a22-4cfd-8ee3-d3767538fd9c"
      },
      "source": [
        "cv2.imshow('',img_gray)\n",
        "cv2.waitKey(0)"
      ],
      "execution_count": 5,
      "outputs": [
        {
          "output_type": "execute_result",
          "data": {
            "text/plain": [
              "-1"
            ]
          },
          "metadata": {},
          "execution_count": 5
        }
      ]
    },
    {
      "cell_type": "code",
      "metadata": {
        "id": "EcIpThzEZY6P",
        "colab_type": "code",
        "colab": {}
      },
      "source": [
        "img_invert = cv2.bitwise_not(img_gray)\n"
      ],
      "execution_count": 6,
      "outputs": []
    },
    {
      "cell_type": "code",
      "metadata": {
        "id": "cawpuG_TZdlv",
        "colab_type": "code",
        "colab": {
          "base_uri": "https://localhost:8080/",
          "height": 277
        },
        "outputId": "eed14271-d71f-43e7-b291-ee72165c47b0"
      },
      "source": [
        "cv2.imshow('',img_invert)\n",
        "cv2.waitKey(0)\n"
      ],
      "execution_count": 7,
      "outputs": [
        {
          "output_type": "execute_result",
          "data": {
            "text/plain": [
              "-1"
            ]
          },
          "metadata": {},
          "execution_count": 7
        }
      ]
    },
    {
      "cell_type": "code",
      "metadata": {
        "id": "nj309M6DZe7D",
        "colab_type": "code",
        "colab": {
          "base_uri": "https://localhost:8080/",
          "height": 277
        },
        "outputId": "cc0f97da-d611-4126-aa95-70dcb160fb7a"
      },
      "source": [
        "img_smoothing = cv2.GaussianBlur(img_invert, (21, 21),sigmaX=0, sigmaY=0)\n",
        "\n",
        "cv2.imshow('',img_smoothing)\n",
        "cv2.waitKey(0)"
      ],
      "execution_count": 24,
      "outputs": [
        {
          "output_type": "execute_result",
          "data": {
            "text/plain": [
              "-1"
            ]
          },
          "metadata": {},
          "execution_count": 24
        }
      ]
    },
    {
      "cell_type": "code",
      "metadata": {
        "id": "kBNzWMCeZpah",
        "colab_type": "code",
        "colab": {}
      },
      "source": [
        "def dodgeV2(x, y):\n",
        "    return cv2.divide(x, 255 - y, scale=256)"
      ],
      "execution_count": 8,
      "outputs": []
    },
    {
      "cell_type": "code",
      "metadata": {
        "id": "108-XMptZh2d",
        "colab_type": "code",
        "colab": {
          "base_uri": "https://localhost:8080/",
          "height": 277
        },
        "outputId": "9e9a4f84-9eeb-4f58-e1c7-a5d6ffd8ead6"
      },
      "source": [
        "final_img = dodgeV2(img_gray, img_smoothing)\n",
        "\n",
        "cv2.imshow('',final_img)\n",
        "cv2.waitKey(0)"
      ],
      "execution_count": 12,
      "outputs": [
        {
          "output_type": "execute_result",
          "data": {
            "text/plain": [
              "-1"
            ]
          },
          "metadata": {},
          "execution_count": 12
        }
      ]
    }
  ]
}